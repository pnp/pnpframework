{
 "cells": [
  {
   "cell_type": "markdown",
   "metadata": {},
   "source": [
    "# Getting Started with PnP Framework\n",
    "\n",
    "This sample assumes that you have access to Azure AD and have an app setup on the tenant. If you don't have access to a tenant, you can [get a free developer tenant](https://developer.microsoft.com/en-us/microsoft-365/dev-program)."
   ]
  },
  {
   "cell_type": "code",
   "execution_count": null,
   "metadata": {
    "dotnet_interactive": {
     "language": "csharp"
    },
    "polyglot_notebook": {
     "kernelName": "csharp"
    }
   },
   "outputs": [],
   "source": [
    "#r \"nuget: Microsoft.SharePointOnline.CSOM, 16.1.23814.12000\"\n",
    "#r \"nuget: PnP.Framework, 1.13.0\"\n",
    "#r \"nuget: Microsoft.Extensions.Configuration, 7.0.0\"\n",
    "#r \"nuget: Microsoft.Extensions.Configuration.Json, 7.0.0\"\n",
    "\n",
    "using Microsoft.Extensions.Configuration;\n",
    "using Microsoft.Extensions.Configuration.Json;\n",
    "using Microsoft.SharePoint.Client;\n",
    "using PnP.Framework;\n",
    "using System.IO;\n"
   ]
  },
  {
   "cell_type": "code",
   "execution_count": null,
   "metadata": {
    "dotnet_interactive": {
     "language": "csharp"
    },
    "polyglot_notebook": {
     "kernelName": "csharp"
    }
   },
   "outputs": [],
   "source": [
    "// Credentials\n",
    "var config = new ConfigurationBuilder()\n",
    "    .AddJsonFile(Path.Combine(Directory.GetCurrentDirectory(),\"appsettings.json\"))\n",
    "    .Build();\n",
    "var appId = config[\"azureAppId\"];\n",
    "\n",
    "var certPassword = config[\"certificatePassword\"];\n",
    "var certPath = config[\"certificatePath\"];\n",
    "var tenantName = config[\"azureTenantName\"];\n",
    "\n",
    "// To setup an Azure AD app, please visit XXX"
   ]
  },
  {
   "cell_type": "code",
   "execution_count": null,
   "metadata": {
    "dotnet_interactive": {
     "language": "csharp"
    },
    "polyglot_notebook": {
     "kernelName": "csharp"
    }
   },
   "outputs": [],
   "source": [
    "// SharePoint Online Site URL\n",
    "string siteUrl = \"https://contoso.sharepoint.com/sites/pnpcoresdktest\";\n",
    "\n",
    "var authManager = new AuthenticationManager(appId, certPath, certPassword, tenantName);\n",
    "using (var clientContext = authManager.GetContext(siteUrl))\n",
    "{\n",
    "    Web web = clientContext.Web;\n",
    "    clientContext.Load(web, w => w.Title);\n",
    "    clientContext.ExecuteQuery();\n",
    "    Console.WriteLine(\"Site title: {0}\", web.Title);\n",
    "};\n"
   ]
  }
 ],
 "metadata": {
  "kernelspec": {
   "display_name": ".NET (C#)",
   "language": "C#",
   "name": ".net-csharp"
  },
  "language_info": {
   "name": "polyglot-notebook"
  },
  "polyglot_notebook": {
   "kernelInfo": {
    "defaultKernelName": "csharp",
    "items": [
     {
      "aliases": [],
      "languageName": "csharp",
      "name": "csharp"
     }
    ]
   }
  }
 },
 "nbformat": 4,
 "nbformat_minor": 2
}

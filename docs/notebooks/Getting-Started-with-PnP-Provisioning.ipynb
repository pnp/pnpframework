{
 "cells": [
  {
   "cell_type": "markdown",
   "metadata": {},
   "source": [
    "# Getting Started with PnP Provisioning\n",
    "\n",
    "This sample assumes that you have access to Azure AD and have an app setup on the tenant. If you don't have access to a tenant, you can [get a free developer tenant](https://developer.microsoft.com/en-us/microsoft-365/dev-program)."
   ]
  },
  {
   "cell_type": "code",
   "execution_count": null,
   "metadata": {
    "dotnet_interactive": {
     "language": "csharp"
    },
    "polyglot_notebook": {
     "kernelName": "csharp"
    }
   },
   "outputs": [],
   "source": [
    "#r \"nuget: Microsoft.SharePointOnline.CSOM, 16.1.23814.12000\"\n",
    "#r \"nuget: PnP.Framework, 1.13.0\"\n",
    "#r \"nuget: Microsoft.Extensions.Configuration, 7.0.0\"\n",
    "#r \"nuget: Microsoft.Extensions.Configuration.Json, 7.0.0\"\n",
    "\n",
    "using Microsoft.Extensions.Configuration;\n",
    "using Microsoft.Extensions.Configuration.Json;\n",
    "using Microsoft.SharePoint.Client;\n",
    "using PnP.Framework;\n",
    "using PnP.Framework.Provisioning.Providers;\n",
    "using PnP.Framework.Provisioning.Providers.Xml;\n",
    "using PnP.Framework.Provisioning.ObjectHandlers;\n",
    "using PnP.Framework.Provisioning.Connectors;\n",
    "\n",
    "using Model = PnP.Framework.Provisioning.Model;\n",
    "using File = System.IO;"
   ]
  },
  {
   "cell_type": "code",
   "execution_count": null,
   "metadata": {
    "dotnet_interactive": {
     "language": "csharp"
    },
    "polyglot_notebook": {
     "kernelName": "csharp"
    }
   },
   "outputs": [],
   "source": [
    "// Credentials\n",
    "var config = new ConfigurationBuilder()\n",
    "    .AddJsonFile(Path.Combine(File.Directory.GetCurrentDirectory(),\"appsettings.json\"))\n",
    "    .Build();\n",
    "var appId = config[\"azureAppId\"];\n",
    "\n",
    "var certPassword = config[\"certificatePassword\"];\n",
    "var certPath = config[\"certificatePath\"];\n",
    "var tenantName = config[\"azureTenantName\"];"
   ]
  },
  {
   "cell_type": "markdown",
   "metadata": {},
   "source": [
    "## Example creating a site template based on the configuration of a existing SharePoint Site\n",
    "Note: this can take between 15-30 seconds to run, depending on the amount of configuration you have changed on the SharePoint Site"
   ]
  },
  {
   "cell_type": "code",
   "execution_count": null,
   "metadata": {
    "dotnet_interactive": {
     "language": "csharp"
    },
    "polyglot_notebook": {
     "kernelName": "csharp"
    }
   },
   "outputs": [],
   "source": [
    "// SharePoint Online Site URL\n",
    "string siteUrl = \"https://capadevtest.sharepoint.com/sites/pnpcoresdktest\";\n",
    "string path = \"pnpframework-sample-template.xml\";\n",
    "\n",
    "var authManager = new AuthenticationManager(appId, certPath, certPassword, tenantName);\n",
    "using (var clientContext = authManager.GetContext(siteUrl))\n",
    "{\n",
    "    // Used to control the output of the template\n",
    "    ProvisioningTemplateCreationInformation creationInformation = new ProvisioningTemplateCreationInformation(clientContext.Web);\n",
    "    \n",
    "    // Captures ALL the configuration information from the site\n",
    "    ProvisioningTemplate template = clientContext.Web.GetProvisioningTemplate(creationInformation);\n",
    "\n",
    "    // Output the template as XML to the file System\n",
    "    XMLTemplateProvider provider = new XMLFileSystemTemplateProvider(\".\",\"\");\n",
    "    provider.SaveAs(template,path);\n",
    "\n",
    "}\n"
   ]
  },
  {
   "cell_type": "markdown",
   "metadata": {},
   "source": [
    "## Example creating a template in memory and applying a template to a SharePoint Site\n",
    "\n",
    "Note: Sample not yet operational, work in progress..."
   ]
  },
  {
   "cell_type": "code",
   "execution_count": null,
   "metadata": {
    "dotnet_interactive": {
     "language": "csharp"
    },
    "polyglot_notebook": {
     "kernelName": "csharp"
    }
   },
   "outputs": [],
   "source": [
    "// SharePoint Online Site URL\n",
    "string siteUrl = \"https://capadevtest.sharepoint.com/sites/pnpcoresdktest\";\n",
    "\n",
    "var authManager = new AuthenticationManager(appId, certPath, certPassword, tenantName);\n",
    "using (var clientContext = authManager.GetContext(siteUrl))\n",
    "{\n",
    "    // Define the site template\n",
    "    ProvisioningTemplate template = new ProvisioningTemplate();\n",
    "    template.Id = \"ExampleTemplatePnPFramework\";\n",
    "    template.Version = 1.0;\n",
    "    template.Scope = Model.ProvisioningTemplateScope.RootSite;\n",
    "    template.BaseSiteTemplate = \"SITEPAGEPUBLISHING#0\";\n",
    "\n",
    "    template.SiteFields.Add(new Model.Field() { SchemaXml = \"<Field Type='Text' DisplayName='Example Field' Name='ExampleField' />\" });\n",
    "    template.ContentTypes.Add(new Model.ContentType() { Id = \"0x0101001234567890\", Name = \"Example Content Type\", Group = \"Provisioned Group\" });\n",
    "    template.Lists.Add(new ListInstance() { Title = \"Example List\", TemplateType = 100, Url = \"Lists/ExampleList\", ContentTypesEnabled = true });\n",
    "    \n",
    "    // Serialize the site template to an XML file\n",
    "    string templateFileName = \"ExampleTemplatePnPFramework.xml\";\n",
    "    XMLTemplateProvider provider = new XMLFileSystemTemplateProvider(\".\", \"\");\n",
    "    provider.SaveAs(template, templateFileName);\n",
    "\n",
    "    \n",
    "\n",
    "    var applyingInformation = new ProvisioningTemplateApplyingInformation();\n",
    "    applyingInformation.HandlersToProcess = Handlers.All;\n",
    "    \n",
    "    clientContext.Web.ApplyProvisioningTemplate(template, applyingInformation);\n",
    "   \n",
    "\n",
    "    // Delete the XML file\n",
    "    System.IO.File.Delete(templateFileName);\n",
    "};\n"
   ]
  }
 ],
 "metadata": {
  "kernelspec": {
   "display_name": ".NET (C#)",
   "language": "C#",
   "name": ".net-csharp"
  },
  "language_info": {
   "name": "polyglot-notebook"
  },
  "polyglot_notebook": {
   "kernelInfo": {
    "defaultKernelName": "csharp",
    "items": [
     {
      "aliases": [],
      "languageName": "csharp",
      "name": "csharp"
     }
    ]
   }
  }
 },
 "nbformat": 4,
 "nbformat_minor": 2
}
